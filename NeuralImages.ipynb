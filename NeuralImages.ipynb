{
  "nbformat": 4,
  "nbformat_minor": 0,
  "metadata": {
    "colab": {
      "name": "Untitled3.ipynb",
      "provenance": [],
      "collapsed_sections": []
    },
    "kernelspec": {
      "name": "python3",
      "display_name": "Python 3"
    },
    "language_info": {
      "name": "python"
    }
  },
  "cells": [
    {
      "cell_type": "code",
      "metadata": {
        "id": "HObYiAqDu5r7"
      },
      "source": [
        "from PIL import Image\n",
        "\n",
        "foo = Image.open(\"kaikaikitan.jpg\")\n",
        "foo = foo.resize((30,30), Image.ANTIALIAS)\n",
        "foo.save(\"resulting.jpg\",quality=95)"
      ],
      "execution_count": null,
      "outputs": []
    },
    {
      "cell_type": "code",
      "metadata": {
        "id": "jt5gYalwJ6in"
      },
      "source": [
        "for x in range(20):\n",
        "  try:\n",
        "    foo = Image.open(\"Dogs/\" + str(x) + \".jpg\")\n",
        "    foo = foo.resize((30,30), Image.ANTIALIAS)\n",
        "    foo.save(\"result\" + str(x) + \".jpg\",quality=95)\n",
        "  except:\n",
        "    continue"
      ],
      "execution_count": null,
      "outputs": []
    },
    {
      "cell_type": "code",
      "metadata": {
        "id": "t9CdiRZBzUzQ"
      },
      "source": [
        "def ReLU(Z):\n",
        "  if Z < 0:\n",
        "    return 0\n",
        "  else:\n",
        "    return Z"
      ],
      "execution_count": null,
      "outputs": []
    },
    {
      "cell_type": "code",
      "metadata": {
        "id": "1UEGXDjYv0HK",
        "colab": {
          "base_uri": "https://localhost:8080/",
          "height": 101
        },
        "outputId": "7a31de8b-24ce-418b-eb48-e5958f33598d"
      },
      "source": [
        "import numpy as np\n",
        "import random as r\n",
        "\n",
        "weights = np.random.randint(0, 5, (1, 900))\n",
        "biasess = np.random.randint(0, 10, (1, 5))\n",
        "weights2 = np.random.randint(0, 5, (1, 5))\n",
        "biasess2 = np.random.randint(0, 10, (1, 2))\n",
        "labeling = [\"CompressedCats\", \"DowngradedDogs\"]\n",
        "\n",
        "def cost_function(pred_list, true_list):\n",
        "\tval = []\n",
        "\tfor i in range(len(true_list)):\n",
        "\t\tval.append(true_list[i] - pred_list[i])\n",
        "\treturn sum(val) ** 2, val\n",
        "\n",
        "for re in range(100):\n",
        "  while True:\n",
        "    ran = r.randint(0, 20)\n",
        "    c = r.choice(labeling)\n",
        "    if c == \"CompressedCats\":\n",
        "      true_list = [10000000, 0]\n",
        "    elif c == \"DowngradedDogs\":\n",
        "      true_list = [0, 10000000]\n",
        "\n",
        "    try:\n",
        "      im = Image.open(c + '/result' + str(ran) + '.jpg')\n",
        "      pix_val = list(im.getdata())\n",
        "      rgb_values = np.array(pix_val)\n",
        "      pixie_dust = []\n",
        "      for x in rgb_values: pixie_dust.append(sum(x))\n",
        "      pixels = np.array(pixie_dust)\n",
        "      break\n",
        "    except:\n",
        "      pass\n",
        "  for rf in range(3):\n",
        "    hidden_layer = []\n",
        "    for x in range(5):\n",
        "      a = []\n",
        "      for y in range(len(pixels)):\n",
        "        a.append(pixels[y] * weights[0, y])\n",
        "      hidden_layer.append(ReLU(sum(a) + biasess[0, x]))\n",
        "    output = []\n",
        "    for x in range(2):\n",
        "      a = []\n",
        "      for y in range(len(hidden_layer)):\n",
        "        a.append(hidden_layer[y] * weights2[0, y])\n",
        "      output.append(ReLU(sum(a) + biasess2[0, x]))\n",
        "    per, arr = cost_function(output, true_list)\n",
        "    for i in range(len(arr)):\n",
        "      if arr[i] > 0.0:\n",
        "       weights[0, i] += 1\n",
        "       weights2[0, i] += 1\n",
        "       biasess[0, i] += 1\n",
        "       biasess2[0, i] += 1\n",
        "      if arr[i] < 0.0:\n",
        "       weights[0, i] -= 1\n",
        "       weights2[0, i] -= 1\n",
        "       biasess[0, i] -= 1\n",
        "       biasess2[0, i] -= 1\n",
        "\n",
        "true_list = [10000000, 0]\n",
        "im = Image.open(c + '/result' + str(ran) + '.jpg')\n",
        "pix_val = list(im.getdata())\n",
        "rgb_values = np.array(pix_val)\n",
        "pixie_dust = []\n",
        "for x in rgb_values: pixie_dust.append(sum(x))\n",
        "pixels = np.array(pixie_dust)\n",
        "\n",
        "hidden_layer = []\n",
        "for x in range(5):\n",
        "  a = []\n",
        "  for y in range(len(pixels)):\n",
        "      a.append(pixels[y] * weights[0, y])\n",
        "  hidden_layer.append(ReLU(sum(a) + biasess[0, x]))\n",
        "output = []\n",
        "for x in range(2):\n",
        "  a = []\n",
        "  for y in range(len(hidden_layer)):\n",
        "      a.append(hidden_layer[y] * weights2[0, y])\n",
        "  output.append(ReLU(sum(a) + biasess2[0, x]))\n",
        "per, arr = cost_function(output, true_list)\n",
        "\n",
        "print(true_list)\n",
        "print(output)\n",
        "high = max(output)\n",
        "if high == output[0]:\n",
        "  print(\"Cat\")\n",
        "elif high == output[1]:\n",
        "  print(\"Dog\")\n",
        "im"
      ],
      "execution_count": 83,
      "outputs": [
        {
          "output_type": "stream",
          "name": "stdout",
          "text": [
            "[10000000, 0]\n",
            "[5219617, 5219597]\n",
            "Cat\n"
          ]
        },
        {
          "output_type": "execute_result",
          "data": {
            "image/png": "[encoded data removed]",
            "text/plain": [
              "<PIL.JpegImagePlugin.JpegImageFile image mode=RGB size=30x30 at 0x7F0D3F462FD0>"
            ]
          },
          "metadata": {},
          "execution_count": 83
        }
      ]
    }
  ]
}